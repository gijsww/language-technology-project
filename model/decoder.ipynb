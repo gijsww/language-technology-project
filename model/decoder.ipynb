{
 "cells": [
  {
   "cell_type": "code",
   "execution_count": 1,
   "metadata": {},
   "outputs": [],
   "source": [
    "import torch"
   ]
  },
  {
   "cell_type": "code",
   "execution_count": 2,
   "metadata": {},
   "outputs": [],
   "source": [
    "class FeedForwardDecoder(torch.nn.Module):\n",
    "\n",
    "    def __init__(self, D_in, H, D_out):\n",
    "        super(FeedForwardDecoder, self).__init__()\n",
    "        self.w1 = torch.nn.Linear(D_in, H)\n",
    "        self.w2 = torch.nn.Linear(H, D_out)\n",
    "        self.activation = torch.nn.functional.relu\n",
    "        \n",
    "    def forward(self, x):\n",
    "        x = self.w1(x)\n",
    "        x = self.activation(x)\n",
    "        x = self.w2(x)\n",
    "        return x\n",
    "\n",
    "\n",
    "class LinearDecoder(torch.nn.Module):\n",
    "\n",
    "    def __init__(self, D_in, H, D_out):\n",
    "        super(FeedForwardDecoder, self).__init__()\n",
    "        self.w1 = torch.nn.Linear(D_in, D_out)\n",
    "        \n",
    "    def forward(self, x):\n",
    "        x = self.w1(x)\n",
    "        return x"
   ]
  },
  {
   "cell_type": "code",
   "execution_count": null,
   "metadata": {},
   "outputs": [],
   "source": []
  }
 ],
 "metadata": {
  "kernelspec": {
   "display_name": "Python 3",
   "language": "python",
   "name": "python3"
  },
  "language_info": {
   "codemirror_mode": {
    "name": "ipython",
    "version": 3
   },
   "file_extension": ".py",
   "mimetype": "text/x-python",
   "name": "python",
   "nbconvert_exporter": "python",
   "pygments_lexer": "ipython3",
   "version": "3.6.1rc1"
  }
 },
 "nbformat": 4,
 "nbformat_minor": 4
}

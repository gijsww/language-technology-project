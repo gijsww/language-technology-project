{
 "cells": [
  {
   "cell_type": "markdown",
   "metadata": {},
   "source": [
    "# Error in Conneau's reported loss function (Eqn. 4)"
   ]
  },
  {
   "cell_type": "markdown",
   "metadata": {},
   "source": [
    "Conneau et al. (2017) report that the generator in their GAN would also benefit from being given the loss term proportional to the misclassification-rate of the discriminator on all-real minibatches, where the generator does not contributes to generating these minibatches and is (the generator...) hence not part of the back-prop graph of the loss incurred from the discriminator misclassifying the all-real minibatches.\n",
    "\n",
    "This script demonstrates that the computation of gradients of a model does not get affected when adding an independent loss term to the model's loss to be backpropagated."
   ]
  },
  {
   "cell_type": "code",
   "execution_count": 1,
   "metadata": {},
   "outputs": [],
   "source": [
    "# Get list of all gradients in a model\n",
    "\n",
    "def grads(model):\n",
    "    grads = []\n",
    "    for p in model.parameters():\n",
    "        grads += p.grad\n",
    "    return grads"
   ]
  },
  {
   "cell_type": "code",
   "execution_count": 2,
   "metadata": {},
   "outputs": [
    {
     "name": "stdout",
     "output_type": "stream",
     "text": [
      "Gen: Linear(in_features=5, out_features=1, bias=True)\n",
      "Dis: Linear(in_features=5, out_features=1, bias=True) \n",
      "\n",
      "Grads for generator for loss_gen only:\n",
      " [tensor([-0.0993, -0.0389, -0.1039,  0.0662, -0.0270]), tensor(-0.2005)] \n",
      "\n",
      "Grads for generator for loss_gen + loss_dis:\n",
      " [tensor([-0.0993, -0.0389, -0.1039,  0.0662, -0.0270]), tensor(-0.2005)]\n"
     ]
    }
   ],
   "source": [
    "import torch\n",
    "\n",
    "generator = torch.nn.Linear(5,1)\n",
    "discriminator = torch.nn.Linear(5,1)\n",
    "\n",
    "train_data = torch.rand(7,5)\n",
    "y_true = torch.rand(7,1)\n",
    "\n",
    "print('Gen:', generator)\n",
    "print('Dis:', discriminator, '\\n')\n",
    "\n",
    "generator.train()\n",
    "discriminator.eval()  # Doesn't matter whether .train() or .eval() at this point\n",
    "\n",
    "criterion = torch.nn.MSELoss()\n",
    "\n",
    "# First, compute generator's gradients given loss for generator only.\n",
    "generator.zero_grad()\n",
    "\n",
    "y_pred = generator(train_data)\n",
    "loss = criterion(y_pred, y_true)\n",
    "loss.backward()\n",
    "print('Grads for generator for loss_gen only:\\n', grads(generator), '\\n')\n",
    "\n",
    "# Second, compute generator's gradients given loss for generator+discriminator.\n",
    "generator.zero_grad()\n",
    "discriminator.zero_grad()\n",
    "\n",
    "y_pred = generator(train_data)\n",
    "loss_gen = criterion(y_pred, y_true)\n",
    "\n",
    "y_pred = discriminator(train_data)\n",
    "loss_dis = criterion(y_pred, y_true)\n",
    "\n",
    "loss_gen = loss_gen + loss_dis\n",
    "\n",
    "loss_gen.backward()\n",
    "print('Grads for generator for loss_gen + loss_dis:\\n', grads(generator))"
   ]
  }
 ],
 "metadata": {
  "kernelspec": {
   "display_name": "Python 3",
   "language": "python",
   "name": "python3"
  },
  "language_info": {
   "codemirror_mode": {
    "name": "ipython",
    "version": 3
   },
   "file_extension": ".py",
   "mimetype": "text/x-python",
   "name": "python",
   "nbconvert_exporter": "python",
   "pygments_lexer": "ipython3",
   "version": "3.5.2"
  }
 },
 "nbformat": 4,
 "nbformat_minor": 2
}

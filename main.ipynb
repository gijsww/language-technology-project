{
 "cells": [
  {
   "cell_type": "code",
   "execution_count": 36,
   "metadata": {},
   "outputs": [],
   "source": [
    "import os\n",
    "import fasttext\n",
    "import fasttext.util\n",
    "import torch\n",
    "import math\n",
    "import random\n",
    "from model import gan\n",
    "from early_stopping import EarlyStopping\n",
    "from sklearn.utils import shuffle\n",
    "from sklearn.neighbors import NearestNeighbors\n",
    "import numpy as np\n",
    "\n",
    "# Unique Naming\n",
    "from datetime import datetime\n",
    "import random, string"
   ]
  },
  {
   "cell_type": "code",
   "execution_count": 2,
   "metadata": {},
   "outputs": [],
   "source": [
    "def random_string(length=10):\n",
    "    \"\"\"\n",
    "        Generate a random string of given length. For safely storing produced images.\n",
    "    \"\"\"\n",
    "    letters = string.ascii_lowercase\n",
    "    return ''.join(random.choice(letters) for i in range(length))\n",
    "\n",
    "\n",
    "def get_model_id():\n",
    "    \"\"\"\n",
    "        Creates folder with unique ID in which everything related to a particular testrun can be saved.\n",
    "    :return: Unique folder identifier\n",
    "    \"\"\"\n",
    "    # Construct testrun identifier\n",
    "    TIME_STAMP = datetime.now().strftime(\"%Y_%d_%m__%H_%M_%S__%f_\")\n",
    "    model_folder_id = TIME_STAMP + '_' + random_string() + '/'\n",
    "\n",
    "    try:\n",
    "        os.makedirs(model_folder_id)\n",
    "    except Exception as e:\n",
    "        print('Exception occurred: ', e)\n",
    "\n",
    "    return model_folder_id"
   ]
  },
  {
   "cell_type": "code",
   "execution_count": 31,
   "metadata": {},
   "outputs": [],
   "source": [
    "### VARIABLES & ADMINISTRATIVE STUFF ###\n",
    "# System\n",
    "#dataset_path = '/media/daniel/Elements/FastText_Data/'  # In case dataset is stored somewhere else, e.g. on hard-drive\n",
    "dataset_path = ''  # Data in same directory\n",
    "dictionary_path = ''  # Dictionaries in same directory\n",
    "use_cuda = torch.cuda.is_available()\n",
    "device = torch.device(\"cuda:0\" if use_cuda else \"cpu\")\n",
    "\n",
    "# Network\n",
    "embedding_dim = 300\n",
    "internal_dim = 300\n",
    "hidden = 300\n",
    "\n",
    "# Train hyperparameters\n",
    "epochs = 20\n",
    "batch_size = 32\n",
    "vocab_size = 2000\n",
    "num_minibatches = vocab_size // batch_size\n",
    "real_label, fake_label = 1, 0\n",
    "languages = {'src': ['de', 'nl'], 'trgt': ['en']}  # Target language to be indicated in last position\n",
    "checkpoint_frequency = 0  # 0 == Off; i > 0 == actual checkpoint frequency in epochs\n",
    "avg_grads = True  # Boolean indicating whether to average the grads of decoder & discriminator accumulated over nr of source languages by nr of source langs\n",
    "early_stop = True # Boolean indicating whether to stop early if loss won't decrease for a certain threshold\n",
    "\n",
    "#testing parameters\n",
    "N = [1] # List of n nearest neighbours that will be performed in evaluation\n"
   ]
  },
  {
   "cell_type": "code",
   "execution_count": 4,
   "metadata": {},
   "outputs": [
    {
     "name": "stdout",
     "output_type": "stream",
     "text": [
      "de\n",
      "nl\n",
      "en\n",
      "{'src': ['de', 'nl'], 'trgt': ['en']}\n"
     ]
    }
   ],
   "source": [
    "# Changed the way languages are stored. \n",
    "# For easy access to complete set of all included languages, just concatenate lists\n",
    "languages = {'src': ['de', 'nl'], 'trgt': ['en']}\n",
    "\n",
    "for lang in languages['src']+languages['trgt']:\n",
    "    print(lang)\n",
    "print(languages)"
   ]
  },
  {
   "cell_type": "code",
   "execution_count": 27,
   "metadata": {},
   "outputs": [
    {
     "name": "stdout",
     "output_type": "stream",
     "text": [
      "Created: ./2020_04_06__11_11_23__045717__lxbtxpxcuy/Final/\n",
      "Model ID: 2020_04_06__11_11_23__045717__lxbtxpxcuy/\n"
     ]
    }
   ],
   "source": [
    "# Set up saving paths\n",
    "data_storage_path = './'\n",
    "model_id = get_model_id()\n",
    "checkpoint_path = data_storage_path + model_id + 'Checkpoint/'\n",
    "final_state_path = data_storage_path + model_id + 'Final/'\n",
    "\n",
    "try:\n",
    "    if checkpoint_frequency > 0:\n",
    "        os.makedirs(checkpoint_path)\n",
    "        print('Created:', checkpoint_path)\n",
    "    os.makedirs(final_state_path)\n",
    "    print('Created:', final_state_path)\n",
    "except Exception as e:\n",
    "    raise Warning('Exception occurred: Cound not create dirs! Exception:', e)\n",
    "    \n",
    "print('Model ID:', model_id)"
   ]
  },
  {
   "cell_type": "markdown",
   "metadata": {},
   "source": [
    "# Get vocab"
   ]
  },
  {
   "cell_type": "code",
   "execution_count": null,
   "metadata": {},
   "outputs": [],
   "source": [
    "def full_vocab(vocab):\n",
    "    # Returns the word embeddings and matching labels for the full vocabulary\n",
    "    words = vocab.words\n",
    "    vectors = [vocab[word] for word in words]\n",
    "    return vectors, words"
   ]
  },
  {
   "cell_type": "code",
   "execution_count": 28,
   "metadata": {},
   "outputs": [],
   "source": [
    "def cleaned_vocab(vocab, vocab_size):\n",
    "    # Remove all punctuation tokens while valid nr of tokens is insufficient yet for having full vocab size\n",
    "    # TODO & possibly reserve testing vocab\n",
    "    # Return clean & restricted vocab\n",
    "    words = vocab.words[:vocab_size]              # Y (labels)\n",
    "    vects = [vocab[word] for word in words]       # X (input data)\n",
    "\n",
    "    return vects, words"
   ]
  },
  {
   "cell_type": "code",
   "execution_count": 7,
   "metadata": {},
   "outputs": [],
   "source": [
    "def add_lang_to_vocab(lang_id, vocab_size, vocabs):\n",
    "    # Get dataset\n",
    "    if dataset_path == './':\n",
    "        fasttext.util.download_model(lang_id)  # Download word embedding vector data if not available\n",
    "    vocab = fasttext.load_model(dataset_path + 'cc.' + lang_id + '.300.bin')  # Load language data\n",
    "\n",
    "    # Add train data (embedding-vectors) and labels (words) to vocab\n",
    "    X, Y = full_vocab(vocab)\n",
    "    x, y = cleaned_vocab(vocab, vocab_size)\n",
    "    vocabs[lang_id] = {'x': torch.tensor(x), 'y': y}\n",
    "    full_vocabs[lang_id] = {'X': X, 'y': Y}\n",
    "\n",
    "    return vocabs"
   ]
  },
  {
   "cell_type": "code",
   "execution_count": 8,
   "metadata": {},
   "outputs": [],
   "source": [
    "def load_vocab(languages):\n",
    "    vocabs = {}\n",
    "    \n",
    "    for language in languages['src']+languages['trgt']:\n",
    "        vocabs, full_vocabs = add_lang_to_vocab(language, vocab_size, vocabs)\n",
    "\n",
    "    print('Successfully loaded language models.')\n",
    "    return vocabs, full_vocabs"
   ]
  },
  {
   "cell_type": "code",
   "execution_count": 9,
   "metadata": {},
   "outputs": [
    {
     "name": "stderr",
     "output_type": "stream",
     "text": [
      "Warning : `load_model` does not return WordVectorModel or SupervisedModel any more, but a `FastText` object which is very similar.\n",
      "Warning : `load_model` does not return WordVectorModel or SupervisedModel any more, but a `FastText` object which is very similar.\n",
      "Warning : `load_model` does not return WordVectorModel or SupervisedModel any more, but a `FastText` object which is very similar.\n"
     ]
    },
    {
     "name": "stdout",
     "output_type": "stream",
     "text": [
      "Successfully loaded language models.\n"
     ]
    }
   ],
   "source": [
    "    # load vocab\n",
    "    vocabs, full_vocabs = load_vocab(languages)\n",
    "    \n",
    "    source_vocabs = {}\n",
    "    source_full_vocabs = {}\n",
    "    for source_language in languages['src']\n",
    "        source_vocabs[source_language] = vocabs[source_langauge]\n",
    "        source_full_vocabs[source_language] = full_vocabs[source_langauge]\n",
    "    target_full_vocabs = full_vocabs[languages['trgt'][0]]"
   ]
  },
  {
   "cell_type": "markdown",
   "metadata": {},
   "source": [
    "# Dictionary related functions"
   ]
  },
  {
   "cell_type": "code",
   "execution_count": 1,
   "metadata": {},
   "outputs": [],
   "source": [
    "def convert_dictionary(dictionary_text):\n",
    "    # Converts an input dictionary text file to a python dictionary\n",
    "    dictionary = {}\n",
    "    source = True\n",
    "    source_word = ''\n",
    "    target_word = ''\n",
    "    \n",
    "    for character in dictionary_text:\n",
    "        if source is True:\n",
    "            if character is '\\t' or character is ' ':\n",
    "                source = False\n",
    "            else:\n",
    "                source_word = source_word + character\n",
    "        else:\n",
    "            if character is '\\n':\n",
    "                source = True\n",
    "                if source_word in dictionary:\n",
    "                    dictionary[source_word].append(target_word)\n",
    "                else:\n",
    "                    dictionary[source_word] = [target_word]\n",
    "                source_word = ''\n",
    "                target_word = ''\n",
    "            else:\n",
    "                target_word = target_word + character\n",
    "                \n",
    "    return dictionary"
   ]
  },
  {
   "cell_type": "code",
   "execution_count": 2,
   "metadata": {},
   "outputs": [],
   "source": [
    "def load_dictionaries(languages):\n",
    "    # Loads in the bilingual dictionaries\n",
    "    dictionaries = {}\n",
    "    \n",
    "    for source_language in languages['src']:\n",
    "        file = open(dictionary_path + language + '-' + languages['trgt'][0] + '.txt', 'r')\n",
    "        dictionary_text = file.read()\n",
    "        dictionaries[source_language] = convert_dictionary(dictionary_text)\n",
    "    \n",
    "    return dictionaries"
   ]
  },
  {
   "cell_type": "code",
   "execution_count": null,
   "metadata": {},
   "outputs": [],
   "source": [
    "def split_translation_task(languages, full_vocabs, dictionaries):\n",
    "    # Creates a split in eval and training translation task\n",
    "    eval_words = {}\n",
    "    test_words = {}\n",
    "    \n",
    "    for source_language in languages['src']:\n",
    "        source_words = list(dictionaries[source_language].keys())\n",
    "        source_words = random.shuffle(source_words)\n",
    "        eval_words[source_langauge] = source_words[0:int(len(source_words)/2)-1]\n",
    "        test_words[source_language] = source_words[int(len(source_words)/2):len(source_words)-1]\n",
    "        \n",
    "    return eval_words, test_words"
   ]
  },
  {
   "cell_type": "code",
   "execution_count": null,
   "metadata": {},
   "outputs": [],
   "source": [
    "    #load in dictionaries\n",
    "    dictionaries = load_dictionaries(languages)\n",
    "    \n",
    "    # split in train and evaluation\n",
    "    eval_words, test_words = split_translation_task(languages, full_vocabs, dictionaries)"
   ]
  },
  {
   "cell_type": "markdown",
   "metadata": {},
   "source": [
    "# Nearest neighbour fitting"
   ]
  },
  {
   "cell_type": "code",
   "execution_count": 3,
   "metadata": {},
   "outputs": [],
   "source": [
    "def fit_neighbours(N, languages, full_vocabs):\n",
    "    target_neighbours = {}\n",
    "    \n",
    "    for n in N:\n",
    "        target_neighbours[n] = NearestNeighbors(n_neighbors=n, metric='cosine').fit(full_vocabs[languages['trgt'][0]]['X'])\n",
    "        \n",
    "    return target_neighbours"
   ]
  },
  {
   "cell_type": "code",
   "execution_count": null,
   "metadata": {},
   "outputs": [],
   "source": [
    "    neighbors = fit_neighbours(N, languages, full_vocabs)"
   ]
  },
  {
   "cell_type": "markdown",
   "metadata": {},
   "source": [
    "# Evaluation functions"
   ]
  },
  {
   "cell_type": "code",
   "execution_count": 4,
   "metadata": {},
   "outputs": [],
   "source": [
    "def compute_cosine(vector1, vector2):\n",
    "    # Computes the cosine simularity between two vectors\n",
    "    dot_product = np.dot(vector1, vector2)\n",
    "    norm_vector1 = np.linalg.norm(vector1)\n",
    "    norm_vector2 = np.linalg.norm(vector2)\n",
    "    return dot_product/(norm_vector1*norm_vector2)"
   ]
  },
  {
   "cell_type": "code",
   "execution_count": 5,
   "metadata": {},
   "outputs": [],
   "source": [
    "def get_n_translations(generator, language, source_vector, target_vocab, neighbors):\n",
    "    # Gets n possible translations, as given by the n nearest neighbors of the transformed\n",
    "    # source vector in the target embeddings space, we will use a package for this for optimization\n",
    "    # purposes. n is given in the nearest neighbor fitting stage.\n",
    "    transformed_source_embedding = generator.forward(source_vector, language)\n",
    "\n",
    "    # only takes 2D arrays, hence the extra bracket [1][0] stands for select indices of\n",
    "    # the first input vector (the only one in this case)\n",
    "    vocab_indices = neighbors(np.array([transformed_source_embedding]))[1][0]\n",
    "\n",
    "    target_vectors = []\n",
    "    target_words = []\n",
    "    for index in vocab_indices:\n",
    "        target_vectors.append(target_vocab['X'][index])\n",
    "        target_words.append(target_vocab['Y'][index])\n",
    "\n",
    "    return target_vectors, target_words"
   ]
  },
  {
   "cell_type": "code",
   "execution_count": 6,
   "metadata": {},
   "outputs": [],
   "source": [
    "def get_average_cosine(generator, language, source_word_vectors, target_vocab, neighbors):\n",
    "    # Computes the average cosine simularity between the source words and their translations\n",
    "    sum_of_cosines = 0\n",
    "    for source_word_vector in source_word_vectors:\n",
    "        translated_word_vector = get_n_translations(generator, language, source_word_vector, target_vocab, neighbors)[0][0]\n",
    "        sum_of_cosines += compute_cosine(source_word_vector, translated_word_vector)\n",
    "    return sum_of_cosines/len(source_word_vectors)"
   ]
  },
  {
   "cell_type": "code",
   "execution_count": 7,
   "metadata": {},
   "outputs": [],
   "source": [
    "def get_translation_accuracy(generator, language, source_words, source_vocab, target_vocab, dictionary, neighbors):\n",
    "    # Compute the accuracy of translation over the given set of source words\n",
    "    correct_translations = 0\n",
    "    for source_word in source_words:\n",
    "        source_word_index = source_vocab['Y'].index(source_word)\n",
    "        source_word_vector = source_vocab['X'][source_word_index]\n",
    "        n_target_words = get_n_translations(generator, language, source_word_vector, target_vocab, neighbors)[1]\n",
    "        for target_word in n_target_words:\n",
    "            if target_word in dictionary[source_word]:\n",
    "                correct_translations += 1\n",
    "                break\n",
    "    return correct_translations/len(source_words)"
   ]
  },
  {
   "cell_type": "code",
   "execution_count": 8,
   "metadata": {},
   "outputs": [],
   "source": [
    "def evaluation(generator, languages, source_training_vocabs, source_eval_words, source_full_vocabs, target_full_vocabs, dictionaries, neighbors, N):\n",
    "    # Evaluates the current model by using both an unsupervised cosine similiraty metric and a \n",
    "    # supervised translation accuracy metric. We have included both to see how they compare.\n",
    "    for source_language in languages['src']:\n",
    "        cosine_metric =  get_average_cosine(generator, source_language, source_training_vocabs[source_language]['x'], target_full_vocab, neighbors)\n",
    "\n",
    "        accuracy_text = 'accuracies are '\n",
    "        for n in N:\n",
    "            accuracy = get_translation_accuracy(generator, source_language, source_eval_words[source_language], source_full_vocabs[source_language], target_full_vocab, dictionaries[source_language], neighbours)\n",
    "            accuracy_text = accuracy_text + 'p@' + n + '=' + accuracy + ', '\n",
    "        \n",
    "        print('evaluation of source language ' + source_language + ': average cosine=' + cosine_metric + accuracy_text)\n",
    "    "
   ]
  },
  {
   "cell_type": "code",
   "execution_count": 9,
   "metadata": {},
   "outputs": [],
   "source": [
    "def testing(generator, languages, source_test_words, source_full_vocabs, target_full_vocabs, dictionaries, neighbors, N):\n",
    "    # Testing based on translation accuracy on testing set\n",
    "    for source_language in languages['src']:\n",
    "        accuracy_text = ''\n",
    "        for n in N:\n",
    "            accuracy = get_translation_accuracy(generator, source_language, source_test_words[source_language], source_full_vocabs[source_language], target_full_vocab, dictionaries[source_language], neighbours)\n",
    "            accuracy_text = accuracy_text + 'p@' + n + '=' + accuracy + ', '\n",
    "        \n",
    "        print('Testing accuracies of source language ' + source_language + \": \" + accuracy_text)"
   ]
  },
  {
   "cell_type": "markdown",
   "metadata": {},
   "source": [
    "# Define training related functions"
   ]
  },
  {
   "cell_type": "code",
   "execution_count": 10,
   "metadata": {},
   "outputs": [],
   "source": [
    "def save_checkpoint(data, save):\n",
    "    if save:\n",
    "        torch.save(data, checkpoint_path + 'checkpoint_%d.pt' % data['epoch'])"
   ]
  },
  {
   "cell_type": "code",
   "execution_count": 11,
   "metadata": {},
   "outputs": [],
   "source": [
    "def mean_param(model):\n",
    "    return torch.mean(torch.cat([param.data.view(-1) for param in model.parameters()], 0))"
   ]
  },
  {
   "cell_type": "code",
   "execution_count": 29,
   "metadata": {},
   "outputs": [],
   "source": [
    "def get_dataset_sample(lang, vocab, batch_size, include_y=False):\n",
    "    \"\"\"\n",
    "    This function draws batch_size-many training samples at random \n",
    "    from a vocab corresponding to queried language.  \n",
    "    \"\"\"\n",
    "    indices = torch.LongTensor(batch_size).random_(0, len(vocab))\n",
    "    if include_y:\n",
    "        return vocab['x'][indices], vocab['y'][indices]\n",
    "    return vocab['x'][indices]\n",
    "\n",
    "\n",
    "def get_train_data(languages, vocabs, batch_size, include_y=False):\n",
    "    \"\"\"\n",
    "    Returns one set of samples datapoints form a vocabulary for each provided language.\n",
    "    \"\"\"\n",
    "    x, y = {}, {}\n",
    "    \n",
    "    # Source languages\n",
    "    for lang in languages['src']+languages['trgt']:\n",
    "        if include_y:\n",
    "            x[lang], y[lang] = get_dataset_sample(lang, vocabs[lang], batch_size, include_y)\n",
    "        else:\n",
    "            x[lang] = get_dataset_sample(lang, vocabs[lang], batch_size)\n",
    "    \n",
    "    # Return\n",
    "    if include_y:\n",
    "        return x, y\n",
    "    return x"
   ]
  },
  {
   "cell_type": "code",
   "execution_count": 41,
   "metadata": {
    "scrolled": false
   },
   "outputs": [
    {
     "name": "stdout",
     "output_type": "stream",
     "text": [
      "Nr source languages: 2\n",
      "Nr target languages: 1\n",
      "\n",
      " {'src': ['de', 'nl'], 'trgt': ['en']}\n",
      "Decoder gradient averaging factor: 0.5 \n",
      "\n",
      "Epoch  0 / 20\n",
      "Progress:  252.09407 89.848366 231.7427 175.53697\n",
      "sdsfs\n",
      "231.7427 175.53697\n",
      "Epoch  1 / 20\n",
      "Progress:  60.589394 27.374695 47.230286 117.01661\n",
      "47.230286 117.01661\n",
      "Epoch  2 / 20\n",
      "Progress:  47.255955 33.009087 44.820065 89.150185\n",
      "44.820065 89.150185\n",
      "Epoch  3 / 20\n",
      "Progress:  41.449257 40.61509 46.77988 53.627583\n",
      "46.77988 53.627583\n",
      "Epoch  4 / 20\n",
      "Progress:  39.266617 44.66491 48.851814 48.163185\n",
      "48.851814 48.163185\n",
      "Epoch  5 / 20\n",
      "Progress:  39.810505 44.277462 52.205376 50.089413\n",
      "52.205376 50.089413\n",
      "Epoch  6 / 20\n",
      "Progress:  33.58342 42.449757 57.361675 55.48435\n",
      "57.361675 55.48435\n",
      "Epoch  7 / 20\n",
      "Progress:  28.201244 36.203766 70.14098 60.422897\n",
      "70.14098 60.422897\n",
      "Epoch  8 / 20\n",
      "Progress:  23.747543 27.071314 104.17129 73.9532\n",
      "104.17129 73.9532\n",
      "Epoch  9 / 20\n",
      "Progress:  17.714909 18.038177 120.94053 98.00282\n",
      "120.94053 98.00282\n",
      "Epoch  10 / 20\n",
      "Progress:  16.56294 13.029578 162.70692 120.125916\n",
      "162.70692 120.125916\n",
      "Epoch  11 / 20\n",
      "Progress:  18.259659 12.005558 158.82797 128.16985\n",
      "158.82797 128.16985\n",
      "Epoch  12 / 20\n",
      "Progress:  18.105679 11.051925 182.27835 136.75989\n",
      "early stopping\n",
      "Done.\n"
     ]
    }
   ],
   "source": [
    "def main():\n",
    "    \n",
    "    NLLLoss = torch.nn.NLLLoss()\n",
    "    nr_src_langs = len(languages['src'])\n",
    "    print('Nr source languages:', nr_src_langs)\n",
    "    print('Nr target languages:', len(languages['trgt'])) \n",
    "    print('\\n', languages)\n",
    "    \n",
    "    if avg_grads:\n",
    "        avg_factor = 1/nr_src_langs\n",
    "        print('Decoder gradient averaging factor:', avg_factor, \"\\n\")\n",
    "    \n",
    "    # Get bilingual dictionary for evaluating train loss or at least testing\n",
    "    dicts = dict()\n",
    "    #TODO\n",
    "\n",
    "    # Set up model architecture\n",
    "    net = gan.GAN(embedding_dim, internal_dim, hidden, languages['src'])\n",
    "\n",
    "    # Get optimizers; 1 per source language of encoder and 1 for discriminator\n",
    "    optimizers = {'gen': {}}\n",
    "    for lang in languages['src']:\n",
    "        optimizers['gen'][lang] = torch.optim.Adam([{'params': net.generator.encoders[lang].parameters()},\n",
    "                                                    {'params': net.generator.decoder.parameters()}],\n",
    "                                                    lr=0.001, betas=(0.9, 0.999), eps=1e-08, \n",
    "                                                    weight_decay=0, amsgrad=False)\n",
    "    optimizers['dis'] = torch.optim.Adam(net.discriminator.parameters(),\n",
    "                                         lr=0.001, betas=(0.9, 0.999), eps=1e-08, \n",
    "                                         weight_decay=0, amsgrad=False)\n",
    "    \n",
    "    # Train\n",
    "    train_loss_real_d, train_loss_fake_d = [], []\n",
    "    train_loss_real_g, train_loss_fake_g = [], []\n",
    "    eval_loss = [] # TODO: To be populated...\n",
    "    last_loss = -1\n",
    "    \n",
    "    es = EarlyStopping(patience=10) #patience = amount of epochs the loss has to stop decreasing in a row for it to early stop\n",
    "    \n",
    "    for epoch in range(epochs):\n",
    "        print('Epoch ', epoch, '/', epochs)\n",
    "        loss_real_total_d, loss_fake_total_d, loss_real_total_g, loss_fake_total_g = 0., 0., 0., 0.\n",
    "\n",
    "        # Train #\n",
    "        for batch in range(num_minibatches):\n",
    "            #print('Epoch ', epoch, ', Batch ', batch, '/', num_minibatches)\n",
    "            \n",
    "            # Update discriminator #\n",
    "            net.discriminator.train()\n",
    "            net.generator.eval()\n",
    "            net.discriminator.zero_grad()\n",
    "            \n",
    "            x = get_train_data(languages, vocabs, batch_size)#.to(device)\n",
    "            \n",
    "            # All-fake minibatches - One minibatch per source language\n",
    "            loss_fake_batch_avg = 0.\n",
    "            y_true = torch.full((batch_size,), fake_label).long()#.to(device)\n",
    "            for language in languages['src']:\n",
    "                x_fake = x[lang]\n",
    "                x_trans = net.generator(x_fake, language)\n",
    "                y_pred = net.discriminator(x_trans.detach())      # Detach to avoid computing grads for generator\n",
    "                \n",
    "                # Loss proportional to discriminator's probability of correctly distinguishing TP and FP\n",
    "                loss_fake = NLLLoss(torch.log(y_pred+0.0000001), y_true)  # NLLLoss needs log(prob_distribution); adding small amount to avoid log(0)\n",
    "                loss_fake.backward()    # Compute gradients only for discriminator\n",
    "                loss_fake_batch_avg += loss_fake\n",
    "            \n",
    "            loss_fake_total_d += (loss_fake_batch_avg/nr_src_langs)\n",
    "            \n",
    "            # Possibly average discriminators's gradients over nr of src languages \n",
    "            # (--> ensures all-fake loss's contribution is equal to that of all-real data)\n",
    "            if avg_grads:\n",
    "                for p in net.discriminator.parameters():\n",
    "                    p.grad *= avg_factor\n",
    "            \n",
    "            # All-real minibatch\n",
    "            x_real = x[languages['trgt'][0]]  # Extract all-real data\n",
    "            y_true = torch.full((batch_size,), real_label).long()#.to(device)\n",
    "            y_pred = net.discriminator(x_real)\n",
    "            \n",
    "            # Loss proportional to discriminator's probability of correctly distinguishing TP and FP\n",
    "            loss_real = NLLLoss(torch.log(y_pred+0.0000001), y_true)  # NLLLoss needs log(prob_distribution); adding small amount to avoid log(0)\n",
    "            loss_real.backward()\n",
    "            loss_real_total_d += loss_real\n",
    "                    \n",
    "            optimizers['dis'].step() # Weight update for discriminator\n",
    "\n",
    "            # Update generator #\n",
    "            net.generator.train()\n",
    "            net.discriminator.eval()\n",
    "            net.generator.zero_grad()\n",
    "            \n",
    "            x = get_train_data(languages, vocabs, batch_size)#.to(device)\n",
    "            \n",
    "            # All-fake minibatches - One minibatch per source language\n",
    "            loss_fake_batch_avg = 0.\n",
    "            y_true = torch.full((batch_size,), real_label).long()#.to(device) # Try to fool the discriinator\n",
    "            for language in languages['src']:\n",
    "                x_fake = x[lang]\n",
    "                x_trans = net.generator(x_fake, language)\n",
    "                y_pred = net.discriminator(x_trans)      # Detach to avoid computing grads for generator\n",
    "                \n",
    "                # Loss proportional to discriminator's probability of misclassifying TP and FP\n",
    "                loss_fake = NLLLoss(torch.log(y_pred+0.0000001), y_true)  # NLLLoss needs log(prob_distribution); adding small amount to avoid log(0)\n",
    "                loss_fake.backward()    # Compute gradients only for discriminator\n",
    "                loss_fake_batch_avg += loss_fake\n",
    "            \n",
    "            loss_fake_total_g += (loss_fake_batch_avg/nr_src_langs)\n",
    "            \n",
    "            # Possibly average decoder's gradients over nr of src languages \n",
    "            # (--> ensures that decoder isn't trained as many times as there are source langs per train step)\n",
    "            if avg_grads:\n",
    "                for p in net.generator.decoder.parameters():\n",
    "                    p.grad *= avg_factor\n",
    "            \n",
    "            # All-real minibatch\n",
    "            x_real = x[languages['trgt'][0]]  # Extract all-real data\n",
    "            y_true = torch.full((batch_size,), fake_label).long()#.to(device)  # Pretend true targets were fake\n",
    "            y_pred = net.discriminator(x_real)\n",
    "            \n",
    "            # Loss proportional to discriminator's probability of misclassifying TP and FP\n",
    "            loss_real = NLLLoss(torch.log(y_pred+0.0000001), y_true)  # NLLLoss needs log(prob_distribution); adding small amount to avoid log(0)\n",
    "            loss_real.backward()\n",
    "            loss_real_total_g += loss_real\n",
    "                    \n",
    "            # Perform weight updates\n",
    "            for language in languages['src']:\n",
    "                optimizers['gen'][language].step()\n",
    "            \n",
    "            #print(loss_real_total_d, loss_fake_total_d, loss_real_total_g, loss_fake_total_g)\n",
    "        \n",
    "        # Document accumulated losses per epoch\n",
    "        train_loss_real_d.append(loss_real_total_d)\n",
    "        train_loss_fake_d.append(loss_fake_total_d)\n",
    "        train_loss_real_g.append(loss_real_total_g)\n",
    "        train_loss_fake_g.append(loss_fake_total_g)\n",
    "        \n",
    "        #print('Mean: ', mean_param(net.generator.decoder))\n",
    "        print('Progress: ', loss_real_total_d.detach().numpy(), \n",
    "                            loss_fake_total_d.detach().numpy(),\n",
    "                            loss_real_total_g.detach().numpy(), \n",
    "                            loss_fake_total_g.detach().numpy())\n",
    "        \n",
    "        # Evaluation step\n",
    "        valuation(generator, languages, source_vocabs, eval_words, source_full_vocabs, target_full_vocabs, dictionaries, neighbors, N)\n",
    "\n",
    "        if early_stop: # if early stopping is enabled or not\n",
    "            if es.step(loss_real_total_g.detach()): # using the real loss of the generator for now, maybe use something else later? e.g. evaluation loss?\n",
    "                print('early stopping')\n",
    "                break  # early stop criterion is met, stop the loop now\n",
    "        \n",
    "        # Save checkpoints\n",
    "        print(loss_real_total_g.detach().numpy(), loss_fake_total_g.detach().numpy())\n",
    "        \n",
    "        save = checkpoint_frequency > 0 and epoch % checkpoint_frequency == 0 and \\\n",
    "            last_loss > loss_real_total_g+loss_fake_total_g  # Provisional: save when loss of generator has improved\n",
    "        last_loss = loss_real_total_g+loss_fake_total_g\n",
    "        save_checkpoint({'epoch': epoch,\n",
    "                         'model_state_dict': net.state_dict(),\n",
    "                         'optimizer_state_dicts': \n",
    "                             {**{lang: optimizers['gen'][lang].state_dict() for lang in languages['src']}, \n",
    "                              **{languages['trgt'][0]: optimizers['dis']}\n",
    "                             },\n",
    "                         'losses': {'train_loss_real_d': train_loss_real_d[-1],\n",
    "                                    'train_loss_fake_d': train_loss_fake_d[-1],\n",
    "                                    'train_loss_real_g': train_loss_real_g[-1],\n",
    "                                    'train_loss_fake_g': train_loss_fake_g[-1],},\n",
    "                         }, save)\n",
    "\n",
    "    # Final testing\n",
    "    testing(generator, languages, test_words, source_full_vocabs, target_full_vocabs, dictionaries, neighbors, N)\n",
    "\n",
    "    # Store model\n",
    "    torch.save(net.state_dict(), final_state_path + 'final_model%d.pt' % epoch)\n",
    "\n",
    "if __name__ == \"__main__\":\n",
    "    # execute only if run as a script\n",
    "    main()\n",
    "    print('Done.')\n",
    "\n"
   ]
  },
  {
   "cell_type": "code",
   "execution_count": null,
   "metadata": {},
   "outputs": [],
   "source": []
  }
 ],
 "metadata": {
  "kernelspec": {
   "display_name": "Python 3",
   "language": "python",
   "name": "python3"
  },
  "language_info": {
   "codemirror_mode": {
    "name": "ipython",
    "version": 3
   },
   "file_extension": ".py",
   "mimetype": "text/x-python",
   "name": "python",
   "nbconvert_exporter": "python",
   "pygments_lexer": "ipython3",
   "version": "3.6.9"
  }
 },
 "nbformat": 4,
 "nbformat_minor": 4
}

{
 "cells": [
  {
   "cell_type": "code",
   "execution_count": 1,
   "metadata": {},
   "outputs": [],
   "source": [
    "import os\n",
    "import fasttext\n",
    "import fasttext.util\n",
    "import torch\n",
    "import math\n",
    "import random\n",
    "from early_stopping import EarlyStopping\n",
    "from sklearn.utils import shuffle\n",
    "from sklearn.neighbors import NearestNeighbors\n",
    "import numpy as np\n",
    "\n",
    "# Unique Naming\n",
    "from datetime import datetime\n",
    "import random, string\n",
    "import importlib"
   ]
  },
  {
   "cell_type": "code",
   "execution_count": 2,
   "metadata": {},
   "outputs": [],
   "source": [
    "from model import gan"
   ]
  },
  {
   "cell_type": "code",
   "execution_count": 3,
   "metadata": {},
   "outputs": [],
   "source": [
    "def random_string(length=10):\n",
    "    \"\"\"\n",
    "        Generate a random string of given length. For safely storing produced images.\n",
    "    \"\"\"\n",
    "    letters = string.ascii_lowercase\n",
    "    return ''.join(random.choice(letters) for i in range(length))\n",
    "\n",
    "\n",
    "def get_model_id():\n",
    "    \"\"\"\n",
    "        Creates folder with unique ID in which everything related to a particular testrun can be saved.\n",
    "    :return: Unique folder identifier\n",
    "    \"\"\"\n",
    "    # Construct testrun identifier\n",
    "    TIME_STAMP = datetime.now().strftime(\"%Y_%d_%m__%H_%M_%S__%f_\")\n",
    "    model_folder_id = TIME_STAMP + '_' + random_string() + '/'\n",
    "\n",
    "    try:\n",
    "        os.makedirs(model_folder_id)\n",
    "    except Exception as e:\n",
    "        print('Exception occurred: ', e)\n",
    "\n",
    "    return model_folder_id"
   ]
  },
  {
   "cell_type": "code",
   "execution_count": 4,
   "metadata": {},
   "outputs": [],
   "source": [
    "### VARIABLES & ADMINISTRATIVE STUFF ###\n",
    "# System\n",
    "#dataset_path = '/media/daniel/Elements/FastText_Data/'  # In case dataset is stored somewhere else, e.g. on hard-drive\n",
    "dataset_path = '/media/daniel/Elements/FastText_Data/'  # Data in same directory\n",
    "dictionary_path = '/media/daniel/Elements/FastText_Data/'  # Dictionaries in same directory\n",
    "use_cuda = torch.cuda.is_available()\n",
    "device = torch.device(\"cuda:0\" if use_cuda else \"cpu\")\n",
    "\n",
    "# Network\n",
    "embedding_dim = 300\n",
    "internal_dim = 300\n",
    "output_dim = 1\n",
    "\n",
    "# Train hyperparameters\n",
    "epochs = 100\n",
    "batch_size = 32\n",
    "vocab_size = 5000\n",
    "num_minibatches = vocab_size // batch_size\n",
    "real_label, fake_label = 1, 0\n",
    "languages = {'src': ['de', 'nl']\n",
    "             , 'trgt': ['en']}  # Target language to be indicated in last position\n",
    "checkpoint_frequency = 0  # 0 == Off; i > 0 == actual checkpoint frequency in epochs\n",
    "avg_grads = False  # Boolean indicating whether to average the grads of decoder & discriminator accumulated over nr of source languages by nr of source langs\n",
    "early_stop = False # Boolean indicating whether to stop early if loss won't decrease for a certain threshold\n",
    "eval_frequency = 10\n",
    "\n",
    "#testing parameters\n",
    "N = [1] # List of n nearest neighbors that will be performed in evaluation\n"
   ]
  },
  {
   "cell_type": "code",
   "execution_count": 5,
   "metadata": {},
   "outputs": [
    {
     "name": "stdout",
     "output_type": "stream",
     "text": [
      "de\n",
      "nl\n",
      "en\n",
      "{'trgt': ['en'], 'src': ['de', 'nl']}\n"
     ]
    }
   ],
   "source": [
    "# Changed the way languages are stored. \n",
    "# For easy access to complete set of all included languages, just concatenate lists\n",
    "languages = {'src': ['de', 'nl'], 'trgt': ['en']}\n",
    "\n",
    "for lang in languages['src']+languages['trgt']:\n",
    "    print(lang)\n",
    "print(languages)"
   ]
  },
  {
   "cell_type": "code",
   "execution_count": 6,
   "metadata": {},
   "outputs": [
    {
     "name": "stdout",
     "output_type": "stream",
     "text": [
      "Created: ./2020_10_06__21_06_17__945418__pzizvxqfda/Final/\n",
      "Model ID: 2020_10_06__21_06_17__945418__pzizvxqfda/\n"
     ]
    }
   ],
   "source": [
    "# Set up saving paths\n",
    "data_storage_path = './'\n",
    "model_id = get_model_id()\n",
    "checkpoint_path = data_storage_path + model_id + 'Checkpoint/'\n",
    "final_state_path = data_storage_path + model_id + 'Final/'\n",
    "\n",
    "try:\n",
    "    if checkpoint_frequency > 0:\n",
    "        os.makedirs(checkpoint_path)\n",
    "        print('Created:', checkpoint_path)\n",
    "    os.makedirs(final_state_path)\n",
    "    print('Created:', final_state_path)\n",
    "except Exception as e:\n",
    "    raise Warning('Exception occurred: Cound not create dirs! Exception:', e)\n",
    "    \n",
    "print('Model ID:', model_id)"
   ]
  },
  {
   "cell_type": "markdown",
   "metadata": {},
   "source": [
    "# Get vocab"
   ]
  },
  {
   "cell_type": "code",
   "execution_count": 7,
   "metadata": {},
   "outputs": [],
   "source": [
    "def full_vocab(vocab):\n",
    "    # Returns the word embeddings and matching labels for the full vocabulary\n",
    "    words = vocab.words\n",
    "    vectors = [vocab[word] for word in words]\n",
    "    return vectors, words"
   ]
  },
  {
   "cell_type": "code",
   "execution_count": 8,
   "metadata": {},
   "outputs": [],
   "source": [
    "def cleaned_vocab(vocab, vocab_size):\n",
    "    # Remove all punctuation tokens while valid nr of tokens is insufficient yet for having full vocab size\n",
    "    # TODO & possibly reserve testing vocab\n",
    "    # Return clean & restricted vocab\n",
    "    words = vocab.words[:vocab_size]              # Y (labels)\n",
    "    vects = [vocab[word] for word in words]       # X (input data)\n",
    "\n",
    "    return vects, words"
   ]
  },
  {
   "cell_type": "code",
   "execution_count": 9,
   "metadata": {},
   "outputs": [],
   "source": [
    "def add_lang_to_vocab(lang_id, vocab_size, vocabs, full_vocabs):\n",
    "    # Get dataset\n",
    "    if dataset_path == './':\n",
    "        fasttext.util.download_model(lang_id)  # Download word embedding vector data if not available\n",
    "    vocab = fasttext.load_model(dataset_path + 'cc.' + lang_id + '.300.bin')  # Load language data\n",
    "\n",
    "    # Add train data (embedding-vectors) and labels (words) to vocab\n",
    "    X, Y = cleaned_vocab(vocab,500000)\n",
    "    x, y = cleaned_vocab(vocab, vocab_size)\n",
    "    vocabs[lang_id] = {'x': torch.tensor(x), 'y': y}\n",
    "    full_vocabs[lang_id] = {'X': X, 'Y': Y}\n",
    "\n",
    "    return vocabs, full_vocabs"
   ]
  },
  {
   "cell_type": "code",
   "execution_count": 10,
   "metadata": {},
   "outputs": [],
   "source": [
    "def load_vocab(languages):\n",
    "    vocabs = {}\n",
    "    full_vocabs = {}\n",
    "    \n",
    "    for language in languages['src']+languages['trgt']:\n",
    "        vocabs, full_vocabs = add_lang_to_vocab(language, vocab_size, vocabs, full_vocabs)\n",
    "\n",
    "    print('Successfully loaded language models.')\n",
    "    return vocabs, full_vocabs"
   ]
  },
  {
   "cell_type": "code",
   "execution_count": 11,
   "metadata": {},
   "outputs": [
    {
     "name": "stderr",
     "output_type": "stream",
     "text": [
      "Warning : `load_model` does not return WordVectorModel or SupervisedModel any more, but a `FastText` object which is very similar.\n",
      "Warning : `load_model` does not return WordVectorModel or SupervisedModel any more, but a `FastText` object which is very similar.\n",
      "Warning : `load_model` does not return WordVectorModel or SupervisedModel any more, but a `FastText` object which is very similar.\n"
     ]
    },
    {
     "name": "stdout",
     "output_type": "stream",
     "text": [
      "Successfully loaded language models.\n"
     ]
    }
   ],
   "source": [
    "#load vocab (keep in independent cell for bugfixing purposes)\n",
    "vocabs, full_vocabs = load_vocab(languages)"
   ]
  },
  {
   "cell_type": "code",
   "execution_count": 12,
   "metadata": {},
   "outputs": [],
   "source": [
    "source_vocabs = {}\n",
    "source_full_vocabs = {}\n",
    "\n",
    "for source_language in languages['src']:\n",
    "    source_vocabs[source_language] = vocabs[source_language]\n",
    "    source_full_vocabs[source_language] = full_vocabs[source_language]\n",
    "target_full_vocabs = full_vocabs[languages['trgt'][0]]\n"
   ]
  },
  {
   "cell_type": "markdown",
   "metadata": {},
   "source": [
    "# Dictionary related functions"
   ]
  },
  {
   "cell_type": "code",
   "execution_count": 13,
   "metadata": {},
   "outputs": [],
   "source": [
    "def convert_dictionary(dictionary_text):\n",
    "    # Converts an input dictionary text file to a python dictionary\n",
    "    dictionary = {}\n",
    "    source = True\n",
    "    source_word = ''\n",
    "    target_word = ''\n",
    "    \n",
    "    for character in dictionary_text:\n",
    "        if source is True:\n",
    "            if character is '\\t' or character is ' ':\n",
    "                source = False\n",
    "            else:\n",
    "                source_word = source_word + character\n",
    "        else:\n",
    "            if character is '\\n':\n",
    "                source = True\n",
    "                if source_word in dictionary:\n",
    "                    dictionary[source_word].append(target_word)\n",
    "                else:\n",
    "                    dictionary[source_word] = [target_word]\n",
    "                source_word = ''\n",
    "                target_word = ''\n",
    "            else:\n",
    "                target_word = target_word + character\n",
    "                \n",
    "    return dictionary"
   ]
  },
  {
   "cell_type": "code",
   "execution_count": 14,
   "metadata": {},
   "outputs": [],
   "source": [
    "def load_dictionaries(languages):\n",
    "    # Loads in the bilingual dictionaries\n",
    "    dictionaries = {}\n",
    "    \n",
    "    for source_language in languages['src']:\n",
    "        file = open(dictionary_path + source_language + '-' + languages['trgt'][0] + '.txt', 'r', errors='ignore')\n",
    "        dictionary_text = file.read()\n",
    "        dictionaries[source_language] = convert_dictionary(dictionary_text)\n",
    "    \n",
    "    return dictionaries"
   ]
  },
  {
   "cell_type": "code",
   "execution_count": 15,
   "metadata": {},
   "outputs": [],
   "source": [
    "def split_translation_task(languages, source_full_vocabs, dictionaries):\n",
    "    # Creates a split in eval and training translation task\n",
    "    eval_words = {}\n",
    "    test_words = {}\n",
    "    \n",
    "    for source_language in languages['src']:\n",
    "        source_words = list(dictionaries[source_language].keys())\n",
    "#         random.shuffle(source_words)\n",
    "        eval_list = []\n",
    "        for source_word in source_words:\n",
    "            if source_word in source_full_vocabs[source_language]['Y']:\n",
    "                eval_list.append(source_word)\n",
    "            if len(eval_list) is 200:\n",
    "                eval_words[source_language] = eval_list\n",
    "                break\n",
    "#             eval_words[source_language] = source_words[0:50]\n",
    "#             test_words[source_language] = source_words[50:150]        \n",
    "#         eval_words[source_language] = source_words[0:int(len(source_words)/2)]\n",
    "#         test_words[source_language] = source_words[int(len(source_words)/2):len(source_words)]\n",
    "        \n",
    "    return eval_words, test_words"
   ]
  },
  {
   "cell_type": "code",
   "execution_count": 16,
   "metadata": {},
   "outputs": [],
   "source": [
    "#load in dictionaries (independent cell for bugfixing)\n",
    "dictionaries = load_dictionaries(languages)\n",
    "\n",
    "# split in train and evaluation\n",
    "eval_words, test_words = split_translation_task(languages, source_full_vocabs, dictionaries)"
   ]
  },
  {
   "cell_type": "markdown",
   "metadata": {},
   "source": [
    "# Nearest neighbor fitting"
   ]
  },
  {
   "cell_type": "code",
   "execution_count": 17,
   "metadata": {},
   "outputs": [],
   "source": [
    "def fit_neighbors(N, languages, full_vocabs):\n",
    "    target_neighbors = {}\n",
    "    \n",
    "    for n in N:\n",
    "        target_neighbors[n] = NearestNeighbors(n_neighbors=n, metric='cosine').fit(full_vocabs[languages['trgt'][0]]['X'])\n",
    "        \n",
    "    return target_neighbors"
   ]
  },
  {
   "cell_type": "code",
   "execution_count": 18,
   "metadata": {},
   "outputs": [],
   "source": [
    "neighbors = fit_neighbors(N, languages, full_vocabs)"
   ]
  },
  {
   "cell_type": "markdown",
   "metadata": {},
   "source": [
    "# Evaluation functions"
   ]
  },
  {
   "cell_type": "code",
   "execution_count": 19,
   "metadata": {},
   "outputs": [],
   "source": [
    "def compute_cosine(vector1, vector2):\n",
    "    # Computes the cosine simularity between two vectors\n",
    "    dot_product = np.dot(vector1, vector2)\n",
    "    norm_vector1 = np.linalg.norm(vector1)\n",
    "    norm_vector2 = np.linalg.norm(vector2)\n",
    "    return dot_product/(norm_vector1*norm_vector2)"
   ]
  },
  {
   "cell_type": "code",
   "execution_count": 21,
   "metadata": {},
   "outputs": [],
   "source": [
    "def get_n_translations_batch(generator, language, source_vectors, target_vocab, neighbors):\n",
    "    # Gets n possible translations, as given by the n nearest neighbors of the transformed\n",
    "    # source vector in the target embeddings space, we will use a package for this for optimization\n",
    "    # purposes. n is given in the nearest neighbor fitting stage.\n",
    "    #print(source_vector.numpy()[0])\n",
    "    transformed_source_embedding = generator(torch.as_tensor(source_vectors), language).detach().numpy()\n",
    "\n",
    "    # only takes 2D arrays, hence the extra bracket [1][0] stands for select indices of\n",
    "    # the first input vector (the only one in this case)\n",
    "    vocab_indices = neighbors.kneighbors(np.array(transformed_source_embedding))[1]\n",
    "    target_vectors = []\n",
    "    target_words = []\n",
    "    for target_indices in vocab_indices:\n",
    "        vectors = []\n",
    "        words = []\n",
    "        for index in target_indices:\n",
    "            vectors.append(target_vocab['X'][index])\n",
    "            words.append(target_vocab['Y'][index])\n",
    "        target_vectors.append(vectors)\n",
    "        target_words.append(words)\n",
    "\n",
    "    return target_vectors, target_words"
   ]
  },
  {
   "cell_type": "code",
   "execution_count": 23,
   "metadata": {},
   "outputs": [],
   "source": [
    "def get_average_cosine_batch(generator, language, source_word_vectors, target_vocab, neighbors):\n",
    "    # Computes the average cosine simularity between the source words and their translations\n",
    "    sum_of_cosines = 0\n",
    "    translated_word_vectors = get_n_translations_batch(generator, language, source_word_vectors, target_vocab, neighbors[1])[0]\n",
    "    for source_word_vector, translated_word_vector in zip(source_word_vectors, translated_word_vectors):\n",
    "        sum_of_cosines += compute_cosine(source_word_vector, translated_word_vector[0])\n",
    "    return sum_of_cosines/len(source_word_vectors)"
   ]
  },
  {
   "cell_type": "code",
   "execution_count": 25,
   "metadata": {},
   "outputs": [],
   "source": [
    "def get_translation_accuracy_batch(generator, language, source_words, source_vocab, target_vocab, dictionary, neighbors):\n",
    "    # Compute the accuracy of translation over the given set of source words\n",
    "    correct_translations = 0\n",
    "    source_word_vectors = []\n",
    "    for source_word in source_words:\n",
    "        source_word_index = source_vocab['Y'].index(source_word)\n",
    "        source_word_vectors.append(source_vocab['X'][source_word_index])\n",
    "    target_words = get_n_translations_batch(generator, language, source_word_vectors, target_vocab, neighbors)[1]\n",
    "    for n_target_words,source_word in zip(target_words,source_words):\n",
    "        for target_word in n_target_words:\n",
    "            #print(target_word,dictionary[source_word]) #check the translation and og word\n",
    "            if target_word in dictionary[source_word]:\n",
    "                correct_translations += 1\n",
    "                break\n",
    "    return correct_translations/len(source_words)"
   ]
  },
  {
   "cell_type": "code",
   "execution_count": 26,
   "metadata": {},
   "outputs": [],
   "source": [
    "def evaluation(generator, languages, source_training_vocabs, source_eval_words, source_full_vocabs, target_full_vocabs, dictionaries, neighbors, N):\n",
    "    # Evaluates the current model by using both an unsupervised cosine similiraty metric and a \n",
    "    # supervised translation accuracy metric. We have included both to see how they compare.\n",
    "    for source_language in languages['src']:\n",
    "        cosine_metric =  get_average_cosine_batch(generator, source_language, source_training_vocabs[source_language]['x'], target_full_vocabs, neighbors) #experimental\n",
    "#         cosine_metric = ''\n",
    "        accuracy_text = 'accuracies are '\n",
    "        for n in N:\n",
    "            accuracy = get_translation_accuracy_batch(generator, source_language, source_eval_words[source_language], source_full_vocabs[source_language], target_full_vocabs, dictionaries[source_language], neighbors[n])\n",
    "            accuracy_text = str(accuracy_text) + 'p@' + str(n) + '=' + str(accuracy) + ', '\n",
    "        \n",
    "        print('evaluation of source language ' + source_language + ': average cosine=',cosine_metric, accuracy_text)\n",
    "    "
   ]
  },
  {
   "cell_type": "code",
   "execution_count": 27,
   "metadata": {},
   "outputs": [],
   "source": [
    "def testing(generator, languages, source_test_words, source_full_vocabs, target_full_vocabs, dictionaries, neighbors, N):\n",
    "    # Testing based on translation accuracy on testing set\n",
    "    for source_language in languages['src']:\n",
    "        accuracy_text = ''\n",
    "        for n in N:\n",
    "            accuracy = get_translation_accuracy_batch(generator, source_language, source_test_words[source_language], source_full_vocabs[source_language], target_full_vocabs, dictionaries[source_language], neighbors[n])\n",
    "            accuracy_text = accuracy_text + 'p@' + n + '=' + accuracy + ', '\n",
    "        \n",
    "        print('Testing accuracies of source language ' + source_language + \": \" + accuracy_text)"
   ]
  },
  {
   "cell_type": "markdown",
   "metadata": {},
   "source": [
    "# Auto Encoder"
   ]
  },
  {
   "cell_type": "code",
   "execution_count": 28,
   "metadata": {},
   "outputs": [],
   "source": [
    "class AutoEncoder(torch.nn.Module):\n",
    "\n",
    "    def __init__(self, D_in, H, shared_decoder):\n",
    "        # Encoder\n",
    "        super(AutoEncoder, self).__init__()\n",
    "        self.w1 = torch.nn.Linear(D_in, H)\n",
    "        self.w2 = torch.nn.Linear(H, H)\n",
    "        \n",
    "        self.activation = torch.nn.functional.relu\n",
    "        \n",
    "        # Decoder\n",
    "        self.decoder = shared_decoder\n",
    "        \n",
    "    def forward(self, x):\n",
    "        # Use encoder for encoding\n",
    "        x = self.w1(x)\n",
    "        x = self.activation(x)\n",
    "        x = self.w2(x)\n",
    "        \n",
    "        # Decoder\n",
    "        x = self.decoder(x)\n",
    "        \n",
    "        return x"
   ]
  },
  {
   "cell_type": "code",
   "execution_count": 29,
   "metadata": {},
   "outputs": [],
   "source": [
    "def AutoEncoderLoss(output, target):\n",
    "    # MSE loss\n",
    "    loss = torch.mean((output - target)**2)\n",
    "    return loss"
   ]
  },
  {
   "cell_type": "code",
   "execution_count": 30,
   "metadata": {},
   "outputs": [
    {
     "data": {
      "text/plain": [
       "\"\\n# Dummy test for AutoEncoder\\nfrom model import gan\\n\\n# Param settings\\n# Network\\nembedding_dim = 300\\ninternal_dim = 300\\noutput_dim = 2\\n\\n# Train hyperparameters\\nepochs = 100\\nbatch_size = 32\\nvocab_size = 5000\\nnum_minibatches = vocab_size // batch_size\\nreal_label, fake_label = 1, 0\\nlanguages = {'src': ['de', 'nl']\\n             , 'trgt': ['en']}  # Target language to be indicated in last position\\n\\n# Architecture\\n\\nnet = gan.GAN(embedding_dim, internal_dim, output_dim, languages['src'])\\n\\nae = AutoEncoder(embedding_dim, internal_dim, net.generator.decoder)\\noptimizer_ae = torch.optim.Adam(ae.parameters(),\\n                                         lr=0.01, betas=(0.9, 0.999), eps=1e-08, \\n                                         weight_decay=0., amsgrad=False)\\n\\nrows, cols = 10, 300\\ntrain_data = torch.rand(rows, cols)\\nprint(train_data)\\n\\n\\nfor i in range(1000):\\n    ae.train()\\n    optimizer_ae.zero_grad()\\n    y_pred = ae(train_data)\\n    loss = AutoEncoderLoss(y_pred, train_data)\\n    loss.backward()\\n    optimizer_ae.step()\\n    print('Epoch', i, 'Loss:', loss.detach().numpy())\\n    \""
      ]
     },
     "execution_count": 30,
     "metadata": {},
     "output_type": "execute_result"
    }
   ],
   "source": [
    "\"\"\"\n",
    "# Dummy test for AutoEncoder\n",
    "from model import gan\n",
    "\n",
    "# Param settings\n",
    "# Network\n",
    "embedding_dim = 300\n",
    "internal_dim = 300\n",
    "output_dim = 1#2\n",
    "\n",
    "# Train hyperparameters\n",
    "epochs = 100\n",
    "batch_size = 32\n",
    "vocab_size = 5000\n",
    "num_minibatches = vocab_size // batch_size\n",
    "real_label, fake_label = 1, 0\n",
    "languages = {'src': ['de', 'nl']\n",
    "             , 'trgt': ['en']}  # Target language to be indicated in last position\n",
    "\n",
    "# Architecture\n",
    "\n",
    "net = gan.GAN(embedding_dim, internal_dim, output_dim, languages['src'])\n",
    "\n",
    "ae = AutoEncoder(embedding_dim, internal_dim, net.generator.decoder)\n",
    "optimizer_ae = torch.optim.Adam(ae.parameters(),\n",
    "                                         lr=0.01, betas=(0.9, 0.999), eps=1e-08, \n",
    "                                         weight_decay=0., amsgrad=False)\n",
    "\n",
    "rows, cols = 10, 300\n",
    "train_data = torch.rand(rows, cols)\n",
    "print(train_data)\n",
    "\n",
    "\n",
    "for i in range(1000):\n",
    "    ae.train()\n",
    "    optimizer_ae.zero_grad()\n",
    "    y_pred = ae(train_data)\n",
    "    loss = AutoEncoderLoss(y_pred, train_data)\n",
    "    loss.backward()\n",
    "    optimizer_ae.step()\n",
    "    print('Epoch', i, 'Loss:', loss.detach().numpy())\n",
    "    \"\"\""
   ]
  },
  {
   "cell_type": "markdown",
   "metadata": {},
   "source": [
    "# Define training related functions"
   ]
  },
  {
   "cell_type": "code",
   "execution_count": 31,
   "metadata": {},
   "outputs": [],
   "source": [
    "def save_checkpoint(data, save):\n",
    "    if save:\n",
    "        torch.save(data, checkpoint_path + 'checkpoint_%d.pt' % data['epoch'])"
   ]
  },
  {
   "cell_type": "code",
   "execution_count": 32,
   "metadata": {},
   "outputs": [],
   "source": [
    "def mean_param(model):\n",
    "    return torch.mean(torch.cat([param.data.view(-1) for param in model.parameters()], 0))"
   ]
  },
  {
   "cell_type": "code",
   "execution_count": 33,
   "metadata": {},
   "outputs": [],
   "source": [
    "def get_dataset_sample(lang, vocab, batch_size, include_y=False):\n",
    "    \"\"\"\n",
    "    This function draws batch_size-many training samples at random \n",
    "    from a vocab corresponding to queried language.  \n",
    "    \"\"\"\n",
    "    indices = torch.LongTensor(batch_size).random_(0, len(vocab))\n",
    "    if include_y:\n",
    "        return vocab['x'][indices], vocab['y'][indices]\n",
    "    return vocab['x'][indices]\n",
    "\n",
    "\n",
    "def get_train_data(languages, vocabs, batch_size, include_y=False):\n",
    "    \"\"\"\n",
    "    Returns one set of samples datapoints form a vocabulary for each provided language.\n",
    "    \"\"\"\n",
    "    x, y = {}, {}\n",
    "    \n",
    "    # Source languages\n",
    "    for lang in languages['src']+languages['trgt']:\n",
    "        if include_y:\n",
    "            x[lang], y[lang] = get_dataset_sample(lang, vocabs[lang], batch_size, include_y)\n",
    "        else:\n",
    "            x[lang] = get_dataset_sample(lang, vocabs[lang], batch_size)\n",
    "    \n",
    "    # Return\n",
    "    if include_y:\n",
    "        return x, y\n",
    "    return x"
   ]
  },
  {
   "cell_type": "code",
   "execution_count": 34,
   "metadata": {},
   "outputs": [],
   "source": [
    "# For debugging - Compute sum of abs(gradients) of model\n",
    "def get_summed_abs_grads(model):\n",
    "#     summed_abs = torch.tensor(0)\n",
    "    summed_abs = 0\n",
    "    for p in model.parameters():\n",
    "        summed_abs += torch.sum(torch.abs(p))\n",
    "    return summed_abs"
   ]
  },
  {
   "cell_type": "code",
   "execution_count": null,
   "metadata": {
    "scrolled": false
   },
   "outputs": [
    {
     "name": "stdout",
     "output_type": "stream",
     "text": [
      "Nr source languages: 2\n",
      "Nr target languages: 1\n",
      "\n",
      " {'trgt': ['en'], 'src': ['de', 'nl']}\n",
      "GAN(\n",
      "  (generator): Generator(\n",
      "    (decoder): FeedForwardDecoder(\n",
      "      (w1): Linear(in_features=300, out_features=300, bias=True)\n",
      "      (w2): Linear(in_features=300, out_features=300, bias=True)\n",
      "      (w3): Linear(in_features=300, out_features=300, bias=True)\n",
      "    )\n",
      "  )\n",
      "  (discriminator): Discriminator(\n",
      "    (w1): Linear(in_features=300, out_features=300, bias=True)\n",
      "    (w2): Linear(in_features=300, out_features=300, bias=True)\n",
      "    (w3): Linear(in_features=300, out_features=1, bias=True)\n",
      "    (sigmoid): Sigmoid()\n",
      "  )\n",
      ")\n",
      "Epoch  0 / 100\n",
      "Progress:  1118.2549 25.457033 1.5239131\n",
      "Summed abs weights Generator: 4838.0513\n",
      "Summed abs weights Discrimi.: 1783.9814\n",
      "Epoch  1 / 100\n",
      "Progress:  1642.9061 6.0815372 1.04404\n",
      "Summed abs weights Generator: 4408.263\n",
      "Summed abs weights Discrimi.: 2173.485\n",
      "Epoch  2 / 100\n",
      "Progress:  1586.3173 13.10609 1.2638792\n",
      "Summed abs weights Generator: 4347.182\n",
      "Summed abs weights Discrimi.: 2372.8892\n",
      "Epoch  3 / 100\n",
      "Progress:  606.83655 66.953766 1.0832298\n",
      "Summed abs weights Generator: 4345.8086\n",
      "Summed abs weights Discrimi.: 1620.1945\n",
      "Epoch  4 / 100\n",
      "Progress:  704.6298 57.739315 0.9192552\n",
      "Summed abs weights Generator: 4370.044\n",
      "Summed abs weights Discrimi.: 1137.5486\n",
      "Epoch  5 / 100\n",
      "Progress:  693.0305 54.937 0.62973183\n",
      "Summed abs weights Generator: 4410.656\n",
      "Summed abs weights Discrimi.: 1122.9749\n",
      "Epoch  6 / 100\n",
      "Progress:  551.48096 62.605618 0.42034438\n",
      "Summed abs weights Generator: 4409.99\n",
      "Summed abs weights Discrimi.: 1126.7825\n",
      "Epoch  7 / 100\n",
      "Progress:  632.8691 56.571793 0.2603154\n",
      "Summed abs weights Generator: 4357.1064\n",
      "Summed abs weights Discrimi.: 1108.3799\n",
      "Epoch  8 / 100\n",
      "Progress:  664.05255 64.09464 0.2470982\n",
      "Summed abs weights Generator: 4335.164\n",
      "Summed abs weights Discrimi.: 1532.3679\n",
      "Epoch  9 / 100\n",
      "Progress:  597.31354 62.16077 0.7392787\n",
      "Summed abs weights Generator: 4306.142\n",
      "Summed abs weights Discrimi.: 888.0042\n",
      "Epoch  10 / 100\n",
      "Progress:  587.3973 58.12484 0.27206683\n",
      "Summed abs weights Generator: 4235.319\n",
      "Summed abs weights Discrimi.: 1024.4121\n"
     ]
    }
   ],
   "source": [
    "def main():\n",
    "    \n",
    "    nr_src_langs = len(languages['src'])\n",
    "    nr_trgt_langs = len(languages['trgt'])\n",
    "    nr_langs = nr_src_langs + nr_trgt_langs\n",
    "    print('Nr source languages:', nr_src_langs)\n",
    "    print('Nr target languages:', len(languages['trgt'])) \n",
    "    print('\\n', languages)\n",
    "    \n",
    "    #if avg_grads:\n",
    "    #    avg_factor = 1/nr_src_langs\n",
    "    #    print('Decoder gradient averaging factor:', avg_factor, \"\\n\")\n",
    "    \n",
    "    ### GAN ###\n",
    "    importlib.reload(gan)\n",
    "    \n",
    "    # Set up model architecture\n",
    "    net = gan.GAN(embedding_dim, internal_dim, output_dim, languages['src'])\n",
    "    print(net)\n",
    "    #NLLLoss = torch.nn.NLLLoss()\n",
    "    criterion = torch.nn.BCELoss()\n",
    "\n",
    "    # Get optimizers; 1 per source language of encoder and 1 for discriminator\n",
    "    optimizers = {'gen': {}}\n",
    "    for lang in languages['src']:\n",
    "        optimizers['gen'][lang] = torch.optim.Adam([{'params': net.generator.encoders[lang].parameters()},\n",
    "                                                    {'params': net.generator.decoder.parameters()}\n",
    "                                                   ],\n",
    "                                                    lr=0.0001, betas=(0.9, 0.999), eps=1e-08, \n",
    "                                                    weight_decay=0.01, amsgrad=False)\n",
    "    optimizers['dis'] = torch.optim.Adam(net.discriminator.parameters(),\n",
    "                                         lr=0.001, betas=(0.9, 0.999), eps=1e-08, \n",
    "                                         weight_decay=0.01, amsgrad=False)\n",
    "    \n",
    "    ### AUTO ENCODER ###\n",
    "    ae = AutoEncoder(embedding_dim, internal_dim, net.generator.decoder)\n",
    "    optimizer_ae = torch.optim.Adam(ae.parameters(),\n",
    "                                         lr=0.00001, betas=(0.9, 0.999), eps=1e-08, \n",
    "                                         weight_decay=0., amsgrad=False)\n",
    "    \n",
    "    \n",
    "    # Train\n",
    "    train_loss_gen, train_loss_dis, train_loss_ae = [], [], []\n",
    "    eval_loss = [] # TODO: To be populated...\n",
    "    last_loss = -1\n",
    "    \n",
    "    es = EarlyStopping(patience=10) #patience = amount of epochs the loss has to stop decreasing in a row for it to early stop\n",
    "    \n",
    "    # TODO: 1000 epochs of pre-training?\n",
    "    \n",
    "    for epoch in range(epochs):\n",
    "        print('Epoch ', epoch, '/', epochs)\n",
    "        loss_gen, loss_dis, loss_ae = 0., 0., 0.\n",
    "\n",
    "        # Train #\n",
    "        for batch in range(num_minibatches):\n",
    "            \n",
    "            ### GAN STEP ###\n",
    "            # Update discriminator #\n",
    "            net.discriminator.train()\n",
    "            net.generator.eval()\n",
    "            net.discriminator.zero_grad()\n",
    "            \n",
    "            # Retrieve data\n",
    "            x = get_train_data(languages, vocabs, batch_size)#.to(device) \n",
    "\n",
    "            # Init data-storage\n",
    "            y_preds = torch.zeros([nr_langs*batch_size, 1]) # 2\n",
    "            y_true = torch.zeros([nr_langs*batch_size])#.long()\n",
    "            \n",
    "            y_true[0:batch_size] = real_label  # First elements are target embeddings\n",
    "\n",
    "            \n",
    "            # All-real minibatch\n",
    "            x_real = x[languages['trgt'][0]]  # Extract all-real data\n",
    "            y_preds[0:batch_size] = net.discriminator(x_real)\n",
    "            \n",
    "            # All-fake minibatches - One minibatch per source language\n",
    "            for i, language in enumerate(languages['src']):\n",
    "                idx_from = batch_size*i+batch_size*nr_trgt_langs\n",
    "                idx_to = batch_size*(i+1)+batch_size*nr_trgt_langs\n",
    "                x_trans = net.generator(x[language], language)  # Generate fake data aka translate\n",
    "                y_preds[idx_from:idx_to] = net.discriminator(x_trans)\n",
    "            #print('Preds:', y_preds)\n",
    "            \n",
    "            # Loss proportional to discriminator's probability of correctly distinguishing TP and FP\n",
    "            loss = criterion(y_preds, y_true)\n",
    "            loss.backward()    # Compute gradients only for discriminator\n",
    "            loss_dis += loss\n",
    "            \n",
    "            # Weight update for discriminator\n",
    "            optimizers['dis'].step() \n",
    "\n",
    "            \n",
    "            # Update generator #\n",
    "            net.generator.train()\n",
    "            net.discriminator.eval()\n",
    "            net.generator.zero_grad()\n",
    "            \n",
    "            # Retrieve data\n",
    "            x = get_train_data(languages, vocabs, batch_size)#.to(device)\n",
    "            \n",
    "            # All-fake minibatches - One minibatch per source language\n",
    "            y_true = torch.full((batch_size,), real_label)#.long()#.to(device) # Try to fool the discriminator\n",
    "            for language in languages['src']:\n",
    "                x_src = x[language]\n",
    "                x_trans = net.generator(x_src, language)\n",
    "                y_pred = net.discriminator(x_trans)\n",
    "                # Loss proportional to discriminator's probability of misclassifying TP and FP\n",
    "                loss = criterion(y_pred, y_true)\n",
    "                loss.backward()    # Compute gradients only for discriminator\n",
    "                loss_gen += loss\n",
    "            \n",
    "            # Perform weight updates\n",
    "            for language in languages['src']:\n",
    "                optimizers['gen'][language].step()\n",
    "        \n",
    "        \n",
    "            ### AUTO ENCODER STEP ###\n",
    "\n",
    "            # Retrieve data\n",
    "            x = get_train_data(languages, vocabs, batch_size)#.to(device) \n",
    "\n",
    "            # Perform training\n",
    "            ae.train()\n",
    "            optimizer_ae.zero_grad()\n",
    "            train_data = x[languages['trgt'][0]]\n",
    "            y_pred = ae(train_data)\n",
    "            loss = AutoEncoderLoss(y_pred, train_data)\n",
    "            loss.backward()\n",
    "            optimizer_ae.step()\n",
    "            loss_ae += loss\n",
    "        \n",
    "        \n",
    "        # Document accumulated losses per epoch\n",
    "        train_loss_gen.append(loss_gen.detach().numpy())\n",
    "        train_loss_dis.append(loss_dis.detach().numpy())\n",
    "        train_loss_ae.append(loss_ae.detach().numpy())\n",
    "        \n",
    "        #print('Mean: ', mean_param(net.generator.decoder))\n",
    "        print('Progress: ', loss_gen.detach().numpy(), \n",
    "                            loss_dis.detach().numpy(), \n",
    "                            loss_ae.detach().numpy())\n",
    "        \n",
    "        print('Summed abs weights Generator:', get_summed_abs_grads(net.generator).detach().numpy())\n",
    "        print('Summed abs weights Discrimi.:', get_summed_abs_grads(net.discriminator).detach().numpy())\n",
    "        \n",
    "        # Evaluation step\n",
    "        if epoch > 0 and epoch % eval_frequency is 0:\n",
    "            evaluation(net.generator, languages, source_vocabs, eval_words, source_full_vocabs, target_full_vocabs, dictionaries, neighbors, N)\n",
    "        \n",
    "        if early_stop: # if early stopping is enabled or not\n",
    "            if es.step(loss_gen.detach()): # using the real loss of the generator for now, maybe use something else later? e.g. evaluation loss?\n",
    "                print('early stopping')\n",
    "                break  # early stop criterion is met, stop the loop now\n",
    "        \n",
    "    # Store model\n",
    "    torch.save(net.state_dict(), final_state_path + 'final_model%d.pt' % epoch)\n",
    "    \n",
    "    # Some provision for final eval\n",
    "    evaluation(net.generator, languages, source_vocabs, eval_words, source_full_vocabs, target_full_vocabs, dictionaries, neighbors, N)\n",
    "\n",
    "    \n",
    "if __name__ == \"__main__\":\n",
    "    # execute only if run as a script\n",
    "    main()\n",
    "    print('Done.')\n",
    "\n"
   ]
  },
  {
   "cell_type": "code",
   "execution_count": null,
   "metadata": {},
   "outputs": [],
   "source": []
  },
  {
   "cell_type": "code",
   "execution_count": null,
   "metadata": {},
   "outputs": [],
   "source": []
  }
 ],
 "metadata": {
  "kernelspec": {
   "display_name": "Python 3",
   "language": "python",
   "name": "python3"
  },
  "language_info": {
   "codemirror_mode": {
    "name": "ipython",
    "version": 3
   },
   "file_extension": ".py",
   "mimetype": "text/x-python",
   "name": "python",
   "nbconvert_exporter": "python",
   "pygments_lexer": "ipython3",
   "version": "3.6.1rc1"
  }
 },
 "nbformat": 4,
 "nbformat_minor": 4
}
